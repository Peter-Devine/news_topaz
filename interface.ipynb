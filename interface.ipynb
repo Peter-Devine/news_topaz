{
 "cells": [
  {
   "cell_type": "code",
   "execution_count": 2,
   "id": "1168dcbc",
   "metadata": {},
   "outputs": [],
   "source": [
    "from data_utils.news_explorer import NewsExplorer\n",
    "\n",
    "explorer = NewsExplorer()"
   ]
  }
 ],
 "metadata": {
  "kernelspec": {
   "display_name": "Python 3 (ipykernel)",
   "language": "python",
   "name": "python3"
  },
  "language_info": {
   "codemirror_mode": {
    "name": "ipython",
    "version": 3
   },
   "file_extension": ".py",
   "mimetype": "text/x-python",
   "name": "python",
   "nbconvert_exporter": "python",
   "pygments_lexer": "ipython3",
   "version": "3.9.7"
  }
 },
 "nbformat": 4,
 "nbformat_minor": 5
}
